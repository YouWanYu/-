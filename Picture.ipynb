{
 "cells": [
  {
   "cell_type": "code",
   "execution_count": 50,
   "id": "c9499b15",
   "metadata": {},
   "outputs": [],
   "source": [
    "from PIL import Image\n",
    "pic=Image.open(r\"C:\\Users\\annyu\\Desktop\\圖片\\chiikawa_tako.jpg\")"
   ]
  },
  {
   "cell_type": "code",
   "execution_count": 51,
   "id": "5c6148b8",
   "metadata": {},
   "outputs": [
    {
     "name": "stdout",
     "output_type": "stream",
     "text": [
      "圖片寬度: 564\n",
      "圖片高度: 296\n"
     ]
    }
   ],
   "source": [
    "print('圖片寬度:',pic.width)\n",
    "print('圖片高度:',pic.height)"
   ]
  },
  {
   "cell_type": "code",
   "execution_count": 52,
   "id": "6df33d19",
   "metadata": {},
   "outputs": [
    {
     "name": "stdout",
     "output_type": "stream",
     "text": [
      "圖片檔案格式: JPEG\n",
      "圖片色彩大小: RGB\n",
      "圖片大小: (564, 296)\n"
     ]
    }
   ],
   "source": [
    "print('圖片檔案格式:',pic.format)\n",
    "print('圖片色彩大小:',pic.mode)\n",
    "print('圖片大小:',pic.size)"
   ]
  },
  {
   "cell_type": "code",
   "execution_count": 53,
   "id": "d672a906",
   "metadata": {},
   "outputs": [],
   "source": [
    "pic.show()"
   ]
  },
  {
   "cell_type": "code",
   "execution_count": 54,
   "id": "c2b21efe",
   "metadata": {},
   "outputs": [
    {
     "name": "stdout",
     "output_type": "stream",
     "text": [
      "原本的圖片色彩模式: RGB\n",
      "轉換黑白後的圖片色彩模式: 1\n"
     ]
    }
   ],
   "source": [
    "print('原本的圖片色彩模式:',pic.mode)\n",
    "new_pic=pic.convert('1')\n",
    "new_pic.show()\n",
    "print('轉換黑白後的圖片色彩模式:',new_pic.mode)"
   ]
  },
  {
   "cell_type": "code",
   "execution_count": 55,
   "id": "f0bfeb5d",
   "metadata": {},
   "outputs": [],
   "source": [
    "new_pic=pic.rotate(36)\n",
    "new_pic.show()"
   ]
  },
  {
   "cell_type": "code",
   "execution_count": 56,
   "id": "39e7557f",
   "metadata": {},
   "outputs": [],
   "source": [
    "new_pic2=pic.rotate(-36)\n",
    "new_pic2.show()"
   ]
  },
  {
   "cell_type": "code",
   "execution_count": 57,
   "id": "4a2dec74",
   "metadata": {},
   "outputs": [],
   "source": [
    "from PIL import Image\n",
    "from PIL import ImageFilter\n",
    "pic=Image.open(r\"C:\\Users\\annyu\\Desktop\\圖片\\chiikawa_tako.jpg\")"
   ]
  },
  {
   "cell_type": "code",
   "execution_count": 58,
   "id": "356b62f9",
   "metadata": {},
   "outputs": [],
   "source": [
    "new_pic=pic.filter(ImageFilter.CONTOUR)\n",
    "new_pic.save(r\"C:\\Users\\annyu\\Desktop\\圖片\\chiikawa_tako_contour.jpg\")\n",
    "new_pic.show()"
   ]
  },
  {
   "cell_type": "code",
   "execution_count": 59,
   "id": "02829c49",
   "metadata": {},
   "outputs": [
    {
     "name": "stdout",
     "output_type": "stream",
     "text": [
      "原圖大小: RGB\n",
      "縮放後圖形大小: (400, 400)\n"
     ]
    }
   ],
   "source": [
    "print('原圖大小:',pic.mode)\n",
    "new_pic=pic.resize((400,400))\n",
    "print('縮放後圖形大小:',new_pic.size)\n",
    "new_pic.save(r\"C:\\Users\\annyu\\Desktop\\圖片\\chiikawa_tako_contour2.jpg\")\n",
    "new_pic.show()"
   ]
  },
  {
   "cell_type": "code",
   "execution_count": 60,
   "id": "e32cec2b",
   "metadata": {},
   "outputs": [],
   "source": [
    "from PIL import Image, ImageFont, ImageDraw\n",
    "pic=Image.open(r\"C:\\Users\\annyu\\Desktop\\圖片\\chiikawa_tako.jpg\")"
   ]
  },
  {
   "cell_type": "code",
   "execution_count": 61,
   "id": "4f242f3d",
   "metadata": {},
   "outputs": [],
   "source": [
    "t_font = ImageFont.truetype(r\"C:\\Windows\\Fonts\\rock.ttf\", 30)\n",
    "draw=ImageDraw.Draw(pic)\n",
    "\n",
    "draw.text((70,220), 'Usagi', font=t_font, fill=(255, 140, 0, 255))\n",
    "draw.text((210, 220), 'Chiikawa', font=t_font, fill=(255, 20, 147, 255))\n",
    "draw.text((380, 220), 'Hachiware', font=t_font, fill=(0, 0, 139, 255))\n",
    "pic.show()"
   ]
  },
  {
   "cell_type": "code",
   "execution_count": null,
   "id": "8e1d1e9b",
   "metadata": {},
   "outputs": [],
   "source": []
  }
 ],
 "metadata": {
  "kernelspec": {
   "display_name": "Python 3 (ipykernel)",
   "language": "python",
   "name": "python3"
  },
  "language_info": {
   "codemirror_mode": {
    "name": "ipython",
    "version": 3
   },
   "file_extension": ".py",
   "mimetype": "text/x-python",
   "name": "python",
   "nbconvert_exporter": "python",
   "pygments_lexer": "ipython3",
   "version": "3.11.7"
  }
 },
 "nbformat": 4,
 "nbformat_minor": 5
}
