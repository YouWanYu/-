{
 "cells": [
  {
   "cell_type": "code",
   "execution_count": 18,
   "id": "b8d8b732",
   "metadata": {},
   "outputs": [],
   "source": [
    "import speech_recognition\n",
    "r=speech_recognition.Recognizer()\n",
    "with speech_recognition.Microphone() as source:\n",
    "    audio = r.listen(source)"
   ]
  },
  {
   "cell_type": "code",
   "execution_count": 19,
   "id": "3c80e1b0",
   "metadata": {},
   "outputs": [
    {
     "data": {
      "text/plain": [
       "'我好可愛'"
      ]
     },
     "execution_count": 19,
     "metadata": {},
     "output_type": "execute_result"
    }
   ],
   "source": [
    "r.recognize_google(audio, language='zh-TW')"
   ]
  },
  {
   "cell_type": "code",
   "execution_count": 5,
   "id": "60b458a0",
   "metadata": {},
   "outputs": [],
   "source": [
    "import speech_recognition\n",
    "r=speech_recognition.Recognizer()\n",
    "with speech_recognition.Microphone() as source:\n",
    "    audio = r.listen(source)"
   ]
  },
  {
   "cell_type": "code",
   "execution_count": 6,
   "id": "dcb34191",
   "metadata": {},
   "outputs": [
    {
     "data": {
      "text/plain": [
       "'I am so cute'"
      ]
     },
     "execution_count": 6,
     "metadata": {},
     "output_type": "execute_result"
    }
   ],
   "source": [
    "r.recognize_google(audio, language='en')"
   ]
  },
  {
   "cell_type": "code",
   "execution_count": 13,
   "id": "f4ea0f49",
   "metadata": {},
   "outputs": [],
   "source": [
    "import speech_recognition\n",
    "r=speech_recognition.Recognizer()\n",
    "with speech_recognition.Microphone() as source:\n",
    "    audio = r.listen(source)"
   ]
  },
  {
   "cell_type": "code",
   "execution_count": 14,
   "id": "279f98c8",
   "metadata": {},
   "outputs": [],
   "source": [
    "result=r.recognize_google(audio, language='ja')"
   ]
  },
  {
   "cell_type": "code",
   "execution_count": 15,
   "id": "3eacc499",
   "metadata": {},
   "outputs": [
    {
     "name": "stdout",
     "output_type": "stream",
     "text": [
      "私はめっちゃ可愛い\n"
     ]
    }
   ],
   "source": [
    "print(result)"
   ]
  },
  {
   "cell_type": "code",
   "execution_count": null,
   "id": "a3ae9d4a",
   "metadata": {},
   "outputs": [],
   "source": []
  }
 ],
 "metadata": {
  "kernelspec": {
   "display_name": "Python 3 (ipykernel)",
   "language": "python",
   "name": "python3"
  },
  "language_info": {
   "codemirror_mode": {
    "name": "ipython",
    "version": 3
   },
   "file_extension": ".py",
   "mimetype": "text/x-python",
   "name": "python",
   "nbconvert_exporter": "python",
   "pygments_lexer": "ipython3",
   "version": "3.11.7"
  }
 },
 "nbformat": 4,
 "nbformat_minor": 5
}
