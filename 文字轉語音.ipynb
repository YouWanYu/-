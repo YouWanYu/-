{
 "cells": [
  {
   "cell_type": "code",
   "execution_count": 1,
   "id": "4310f0de",
   "metadata": {},
   "outputs": [],
   "source": [
    "#重複需 kernel/ restart"
   ]
  },
  {
   "cell_type": "code",
   "execution_count": 2,
   "id": "d46edff0",
   "metadata": {},
   "outputs": [],
   "source": [
    "from gtts import gTTS\n",
    "tts=gTTS(text='請讓咪亞一次就搶到票' , lang='zh-TW')\n",
    "tts.save('TW.mp3')"
   ]
  },
  {
   "cell_type": "code",
   "execution_count": 3,
   "id": "4eb50a2e",
   "metadata": {},
   "outputs": [],
   "source": [
    "#語言代碼, zh_TW 或 zh-CN 漢語, en 英文, ja 日文, fr 法文, ru 俄文, es 西班牙語"
   ]
  },
  {
   "cell_type": "code",
   "execution_count": 4,
   "id": "d80c776f",
   "metadata": {},
   "outputs": [
    {
     "name": "stdout",
     "output_type": "stream",
     "text": [
      "pygame 2.5.2 (SDL 2.28.3, Python 3.11.7)\n",
      "Hello from the pygame community. https://www.pygame.org/contribute.html\n"
     ]
    }
   ],
   "source": [
    "from pygame import mixer\n",
    "mixer.init()\n",
    "mixer.music.load('TW.mp3')\n",
    "mixer.music.play()"
   ]
  },
  {
   "cell_type": "code",
   "execution_count": 5,
   "id": "7aab0fcf",
   "metadata": {},
   "outputs": [],
   "source": [
    "from gtts import gTTS\n",
    "ttsl=gTTS(text='ちいかわ可愛いい', lang='ja')\n",
    "ttsl.save('JA.mp3')"
   ]
  },
  {
   "cell_type": "code",
   "execution_count": 6,
   "id": "b3b89da5",
   "metadata": {},
   "outputs": [],
   "source": [
    "from pygame import mixer\n",
    "mixer.init()\n",
    "mixer.music.load('JA.mp3')\n",
    "mixer.music.play()"
   ]
  },
  {
   "cell_type": "code",
   "execution_count": 7,
   "id": "34b101bb",
   "metadata": {},
   "outputs": [],
   "source": [
    "import tempfile\n",
    "def speak(sentence):\n",
    "    with tempfile.NamedTemporaryFile(delete=True) as fp:\n",
    "        tts=gTTS(text=sentence, lang='zh-CN')\n",
    "        tts.save(\"{}.mp3\".format(fp.name))\n",
    "        mixer.music.load(\"{}.mp3\".format(fp.name))\n",
    "        mixer.music.play()"
   ]
  },
  {
   "cell_type": "code",
   "execution_count": 8,
   "id": "257bd021",
   "metadata": {},
   "outputs": [],
   "source": [
    "speak('拜託拜託讓咪亞搶到票吧')"
   ]
  },
  {
   "cell_type": "code",
   "execution_count": 21,
   "id": "85a04c65",
   "metadata": {},
   "outputs": [],
   "source": [
    "import tempfile\n",
    "def speak(sentence):\n",
    "    with tempfile.NamedTemporaryFile(delete=True) as fp:\n",
    "        tts=gTTS(text=sentence, lang='ja')\n",
    "        tts.save(\"{}.mp3\".format(fp.name))\n",
    "        mixer.music.load(\"{}.mp3\".format(fp.name))\n",
    "        mixer.music.play()"
   ]
  },
  {
   "cell_type": "code",
   "execution_count": null,
   "id": "9e313cef",
   "metadata": {},
   "outputs": [],
   "source": [
    "# chiikawa 片尾曲某段歌詞"
   ]
  },
  {
   "cell_type": "code",
   "execution_count": 22,
   "id": "ea01251f",
   "metadata": {},
   "outputs": [],
   "source": [
    "speak('なんだ〜もう朝かと, ひとり ごつ, 焼けたパンにバタァ, ぬり ぬり, やんだ 雨はなんかしめって, なまがわぁき')"
   ]
  },
  {
   "cell_type": "code",
   "execution_count": 24,
   "id": "b5ffde6a",
   "metadata": {},
   "outputs": [],
   "source": [
    "from pygame import mixer\n",
    "mixer.init()\n",
    "mixer.music.load('chiikawa.mp3')\n",
    "mixer.music.play()"
   ]
  },
  {
   "cell_type": "code",
   "execution_count": null,
   "id": "9f175db0",
   "metadata": {},
   "outputs": [],
   "source": []
  }
 ],
 "metadata": {
  "kernelspec": {
   "display_name": "Python 3 (ipykernel)",
   "language": "python",
   "name": "python3"
  },
  "language_info": {
   "codemirror_mode": {
    "name": "ipython",
    "version": 3
   },
   "file_extension": ".py",
   "mimetype": "text/x-python",
   "name": "python",
   "nbconvert_exporter": "python",
   "pygments_lexer": "ipython3",
   "version": "3.11.7"
  }
 },
 "nbformat": 4,
 "nbformat_minor": 5
}
